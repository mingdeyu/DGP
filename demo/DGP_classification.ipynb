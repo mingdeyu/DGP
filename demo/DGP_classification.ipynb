{
 "cells": [
  {
   "cell_type": "code",
   "execution_count": 1,
   "metadata": {},
   "outputs": [],
   "source": [
    "from dgpsi import dgp, kernel, emulator, Categorical, nb_seed, combine\n",
    "import numpy as np\n",
    "from sklearn.datasets import load_wine\n",
    "from sklearn.preprocessing import MinMaxScaler\n",
    "from sklearn.gaussian_process import GaussianProcessClassifier\n",
    "from sklearn.gaussian_process.kernels import Matern\n",
    "from sklearn.model_selection import train_test_split\n",
    "from sklearn.metrics import log_loss\n",
    "import pandas as pd"
   ]
  },
  {
   "cell_type": "markdown",
   "metadata": {},
   "source": [
    "## Data preparation"
   ]
  },
  {
   "cell_type": "code",
   "execution_count": 2,
   "metadata": {},
   "outputs": [],
   "source": [
    "# Set the random state\n",
    "random_state = 99\n",
    "np.random.seed(random_state)\n",
    "nb_seed(random_state) #ensure reproducibility of the numba implementation \n",
    "\n",
    "# Load the Wine dataset\n",
    "X_wine, y_wine = load_wine(return_X_y=True)\n",
    "\n",
    "# Scale the Wine dataset\n",
    "scaler = MinMaxScaler()\n",
    "X_wine_scaled = scaler.fit_transform(X_wine)\n",
    "\n",
    "# Split the scaled Wine data into training and testing sets with the specified random state\n",
    "X_train_wine, X_test_wine, y_train_wine, y_test_wine = train_test_split(X_wine_scaled, y_wine, test_size=0.2, random_state=random_state)\n"
   ]
  },
  {
   "cell_type": "markdown",
   "metadata": {},
   "source": [
    "## GP classifier"
   ]
  },
  {
   "cell_type": "code",
   "execution_count": null,
   "metadata": {},
   "outputs": [],
   "source": [
    "ker = 1.0 * Matern([1.0] * 13, nu=2.5, length_scale_bounds=(1e-5, 1e8))\n",
    "m_gp = GaussianProcessClassifier(kernel=ker, random_state=random_state)\n",
    "m_gp.fit(X_train_wine, y_train_wine)"
   ]
  },
  {
   "cell_type": "markdown",
   "metadata": {},
   "source": [
    "## DGP classifier"
   ]
  },
  {
   "cell_type": "code",
   "execution_count": 4,
   "metadata": {},
   "outputs": [],
   "source": [
    "layer1 = []\n",
    "for _ in range(X_train_wine.shape[1]):\n",
    "    layer1.append(kernel(length=np.array([1]),name='matern2.5',nugget=1e-6))\n",
    "layer2 = [\n",
    "    kernel(length=np.array([1]), name='sexp', scale_est=True, nugget=1e-4, connect=np.arange(X_train_wine.shape[1])),\n",
    "    kernel(length=np.array([1]), name='sexp', scale_est=True, nugget=1e-4, connect=np.arange(X_train_wine.shape[1])),\n",
    "    kernel(length=np.array([1]), name='sexp', scale_est=True, nugget=1e-4, connect=np.arange(X_train_wine.shape[1]))\n",
    "]\n",
    "layer3 = [Categorical()]\n",
    "all_layer = combine(layer1, layer2, layer3)\n",
    "m_dgp = dgp(X_train_wine, y_train_wine.reshape(-1,1), all_layer)"
   ]
  },
  {
   "cell_type": "code",
   "execution_count": 5,
   "metadata": {},
   "outputs": [
    {
     "name": "stderr",
     "output_type": "stream",
     "text": [
      "  0%|          | 0/500 [00:00<?, ?it/s]"
     ]
    },
    {
     "name": "stderr",
     "output_type": "stream",
     "text": [
      "Iteration 500: Layer 3: 100%|██████████| 500/500 [03:01<00:00,  2.75it/s]\n"
     ]
    }
   ],
   "source": [
    "m_dgp.train(N=500) #training"
   ]
  },
  {
   "cell_type": "code",
   "execution_count": 6,
   "metadata": {},
   "outputs": [],
   "source": [
    "final_layer_obj = m_dgp.estimate()\n",
    "emu = emulator(final_layer_obj)"
   ]
  },
  {
   "cell_type": "markdown",
   "metadata": {},
   "source": [
    "## Evaluation"
   ]
  },
  {
   "cell_type": "code",
   "execution_count": 7,
   "metadata": {},
   "outputs": [
    {
     "data": {
      "text/html": [
       "<div>\n",
       "<style scoped>\n",
       "    .dataframe tbody tr th:only-of-type {\n",
       "        vertical-align: middle;\n",
       "    }\n",
       "\n",
       "    .dataframe tbody tr th {\n",
       "        vertical-align: top;\n",
       "    }\n",
       "\n",
       "    .dataframe thead th {\n",
       "        text-align: right;\n",
       "    }\n",
       "</style>\n",
       "<table border=\"1\" class=\"dataframe\">\n",
       "  <thead>\n",
       "    <tr style=\"text-align: right;\">\n",
       "      <th></th>\n",
       "      <th>Classifier</th>\n",
       "      <th>Log Loss</th>\n",
       "    </tr>\n",
       "  </thead>\n",
       "  <tbody>\n",
       "    <tr>\n",
       "      <th>0</th>\n",
       "      <td>GPClassifier</td>\n",
       "      <td>0.456299</td>\n",
       "    </tr>\n",
       "    <tr>\n",
       "      <th>1</th>\n",
       "      <td>DGPClassifier</td>\n",
       "      <td>0.007794</td>\n",
       "    </tr>\n",
       "  </tbody>\n",
       "</table>\n",
       "</div>"
      ],
      "text/plain": [
       "      Classifier  Log Loss\n",
       "0   GPClassifier  0.456299\n",
       "1  DGPClassifier  0.007794"
      ]
     },
     "execution_count": 7,
     "metadata": {},
     "output_type": "execute_result"
    }
   ],
   "source": [
    "log_losses = {}\n",
    "\n",
    "# GP Classifier\n",
    "probs_gp = m_gp.predict_proba(X_test_wine)\n",
    "log_losses[\"GPClassifier\"] = log_loss(y_test_wine, probs_gp)\n",
    "\n",
    "# DGP Classifier\n",
    "log_losses[\"DGPClassifier\"] = emu.log_loss(X_test_wine, y_test_wine)\n",
    "\n",
    "# Convert the results into a DataFrame\n",
    "df_log_losses = pd.DataFrame(list(log_losses.items()), columns=[\"Classifier\", \"Log Loss\"])\n",
    "\n",
    "# Display the result\n",
    "df_log_losses\n"
   ]
  }
 ],
 "metadata": {
  "kernelspec": {
   "display_name": "dgpsi",
   "language": "python",
   "name": "python3"
  },
  "language_info": {
   "codemirror_mode": {
    "name": "ipython",
    "version": 3
   },
   "file_extension": ".py",
   "mimetype": "text/x-python",
   "name": "python",
   "nbconvert_exporter": "python",
   "pygments_lexer": "ipython3",
   "version": "3.9.13"
  }
 },
 "nbformat": 4,
 "nbformat_minor": 2
}
